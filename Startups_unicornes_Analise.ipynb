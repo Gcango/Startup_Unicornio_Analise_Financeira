{
  "nbformat": 4,
  "nbformat_minor": 0,
  "metadata": {
    "colab": {
      "provenance": [],
      "authorship_tag": "ABX9TyM+bmTjaKTA1wHyd7trMS5P",
      "include_colab_link": true
    },
    "kernelspec": {
      "name": "python3",
      "display_name": "Python 3"
    },
    "language_info": {
      "name": "python"
    }
  },
  "cells": [
    {
      "cell_type": "markdown",
      "metadata": {
        "id": "view-in-github",
        "colab_type": "text"
      },
      "source": [
        "<a href=\"https://colab.research.google.com/github/Gcango/Startup_Unicornio_Analise_Financeira/blob/main/Startups_unicornes_Analise.ipynb\" target=\"_parent\"><img src=\"https://colab.research.google.com/assets/colab-badge.svg\" alt=\"Open In Colab\"/></a>"
      ]
    },
    {
      "cell_type": "markdown",
      "source": [
        "##Neste projecto foi objecto de analise diferentes Startups (\"Unicórnio\") e seus investidores. O termo \"Unicórnio\" é usado na indústria de capital de risco para descrever uma startup de capital fechado com valor superior a US$ 1 bilhão. As questões e suas respectivas respostas surgem no decorrer no Bloco de notas.\n",
        "\n"
      ],
      "metadata": {
        "id": "QmRRIotSf6M1"
      }
    },
    {
      "cell_type": "code",
      "source": [
        "import numpy as np\n",
        "import pandas as pd\n",
        "import matplotlib.pyplot as plt\n",
        "import seaborn as sns\n",
        "\n",
        "import warnings\n",
        "warnings.filterwarnings('ignore')"
      ],
      "metadata": {
        "id": "8cwfls7rf8Oo"
      },
      "execution_count": 1,
      "outputs": []
    },
    {
      "cell_type": "code",
      "source": [
        "dados = pd.read_csv(\"/content/unicorns till sep 2022.csv\")"
      ],
      "metadata": {
        "id": "HOF1e6eef8TY"
      },
      "execution_count": 2,
      "outputs": []
    },
    {
      "cell_type": "code",
      "source": [
        "dados.sample(6)"
      ],
      "metadata": {
        "colab": {
          "base_uri": "https://localhost:8080/",
          "height": 341
        },
        "id": "MZ93y_HGf8WA",
        "outputId": "23d3ab22-eff2-45c8-8ab8-aa419947dfba"
      },
      "execution_count": 3,
      "outputs": [
        {
          "output_type": "execute_result",
          "data": {
            "text/plain": [
              "         Company Valuation ($B) Date Joined        Country          City   \\\n",
              "451         Keep             $2   5/19/2020          China        Beijing   \n",
              "910     EcoVadis             $1   6/14/2022         France          Paris   \n",
              "1034  Xiaoe Tech             $1   6/15/2021          China       Shenzhen   \n",
              "123        RELEX          $5.70   2/17/2022        Finland       Helsinki   \n",
              "847    AppDirect          $1.10   10/7/2015  United States  San Francisco   \n",
              "1174  Remarkable             $1   5/10/2022         Norway           Oslo   \n",
              "\n",
              "                                 Industry  \\\n",
              "451          Internet software & services   \n",
              "910   Supply chain, logistics, & delivery   \n",
              "1034         Internet software & services   \n",
              "123   Supply chain, logistics, & delivery   \n",
              "847       E-commerce & direct-to-consumer   \n",
              "1174         Internet software & services   \n",
              "\n",
              "                                              Investors  \n",
              "451   Bertelsmann Asia Investments, GGV Capital, Mor...  \n",
              "910   Astorg Partners, Princeville Global, Beyond Ne...  \n",
              "1034  GGV Capital, Hillhouse Capital Management, IDG...  \n",
              "123   Blackstone, Technology Crossover Ventures, Sum...  \n",
              "847              Mithril, iNovia Capital, Foundry Group  \n",
              "1174                                      Spark Capital  "
            ],
            "text/html": [
              "\n",
              "  <div id=\"df-10d2f398-6f13-4b71-9cf2-6e24465aaba7\" class=\"colab-df-container\">\n",
              "    <div>\n",
              "<style scoped>\n",
              "    .dataframe tbody tr th:only-of-type {\n",
              "        vertical-align: middle;\n",
              "    }\n",
              "\n",
              "    .dataframe tbody tr th {\n",
              "        vertical-align: top;\n",
              "    }\n",
              "\n",
              "    .dataframe thead th {\n",
              "        text-align: right;\n",
              "    }\n",
              "</style>\n",
              "<table border=\"1\" class=\"dataframe\">\n",
              "  <thead>\n",
              "    <tr style=\"text-align: right;\">\n",
              "      <th></th>\n",
              "      <th>Company</th>\n",
              "      <th>Valuation ($B)</th>\n",
              "      <th>Date Joined</th>\n",
              "      <th>Country</th>\n",
              "      <th>City</th>\n",
              "      <th>Industry</th>\n",
              "      <th>Investors</th>\n",
              "    </tr>\n",
              "  </thead>\n",
              "  <tbody>\n",
              "    <tr>\n",
              "      <th>451</th>\n",
              "      <td>Keep</td>\n",
              "      <td>$2</td>\n",
              "      <td>5/19/2020</td>\n",
              "      <td>China</td>\n",
              "      <td>Beijing</td>\n",
              "      <td>Internet software &amp; services</td>\n",
              "      <td>Bertelsmann Asia Investments, GGV Capital, Mor...</td>\n",
              "    </tr>\n",
              "    <tr>\n",
              "      <th>910</th>\n",
              "      <td>EcoVadis</td>\n",
              "      <td>$1</td>\n",
              "      <td>6/14/2022</td>\n",
              "      <td>France</td>\n",
              "      <td>Paris</td>\n",
              "      <td>Supply chain, logistics, &amp; delivery</td>\n",
              "      <td>Astorg Partners, Princeville Global, Beyond Ne...</td>\n",
              "    </tr>\n",
              "    <tr>\n",
              "      <th>1034</th>\n",
              "      <td>Xiaoe Tech</td>\n",
              "      <td>$1</td>\n",
              "      <td>6/15/2021</td>\n",
              "      <td>China</td>\n",
              "      <td>Shenzhen</td>\n",
              "      <td>Internet software &amp; services</td>\n",
              "      <td>GGV Capital, Hillhouse Capital Management, IDG...</td>\n",
              "    </tr>\n",
              "    <tr>\n",
              "      <th>123</th>\n",
              "      <td>RELEX</td>\n",
              "      <td>$5.70</td>\n",
              "      <td>2/17/2022</td>\n",
              "      <td>Finland</td>\n",
              "      <td>Helsinki</td>\n",
              "      <td>Supply chain, logistics, &amp; delivery</td>\n",
              "      <td>Blackstone, Technology Crossover Ventures, Sum...</td>\n",
              "    </tr>\n",
              "    <tr>\n",
              "      <th>847</th>\n",
              "      <td>AppDirect</td>\n",
              "      <td>$1.10</td>\n",
              "      <td>10/7/2015</td>\n",
              "      <td>United States</td>\n",
              "      <td>San Francisco</td>\n",
              "      <td>E-commerce &amp; direct-to-consumer</td>\n",
              "      <td>Mithril, iNovia Capital, Foundry Group</td>\n",
              "    </tr>\n",
              "    <tr>\n",
              "      <th>1174</th>\n",
              "      <td>Remarkable</td>\n",
              "      <td>$1</td>\n",
              "      <td>5/10/2022</td>\n",
              "      <td>Norway</td>\n",
              "      <td>Oslo</td>\n",
              "      <td>Internet software &amp; services</td>\n",
              "      <td>Spark Capital</td>\n",
              "    </tr>\n",
              "  </tbody>\n",
              "</table>\n",
              "</div>\n",
              "    <div class=\"colab-df-buttons\">\n",
              "\n",
              "  <div class=\"colab-df-container\">\n",
              "    <button class=\"colab-df-convert\" onclick=\"convertToInteractive('df-10d2f398-6f13-4b71-9cf2-6e24465aaba7')\"\n",
              "            title=\"Convert this dataframe to an interactive table.\"\n",
              "            style=\"display:none;\">\n",
              "\n",
              "  <svg xmlns=\"http://www.w3.org/2000/svg\" height=\"24px\" viewBox=\"0 -960 960 960\">\n",
              "    <path d=\"M120-120v-720h720v720H120Zm60-500h600v-160H180v160Zm220 220h160v-160H400v160Zm0 220h160v-160H400v160ZM180-400h160v-160H180v160Zm440 0h160v-160H620v160ZM180-180h160v-160H180v160Zm440 0h160v-160H620v160Z\"/>\n",
              "  </svg>\n",
              "    </button>\n",
              "\n",
              "  <style>\n",
              "    .colab-df-container {\n",
              "      display:flex;\n",
              "      gap: 12px;\n",
              "    }\n",
              "\n",
              "    .colab-df-convert {\n",
              "      background-color: #E8F0FE;\n",
              "      border: none;\n",
              "      border-radius: 50%;\n",
              "      cursor: pointer;\n",
              "      display: none;\n",
              "      fill: #1967D2;\n",
              "      height: 32px;\n",
              "      padding: 0 0 0 0;\n",
              "      width: 32px;\n",
              "    }\n",
              "\n",
              "    .colab-df-convert:hover {\n",
              "      background-color: #E2EBFA;\n",
              "      box-shadow: 0px 1px 2px rgba(60, 64, 67, 0.3), 0px 1px 3px 1px rgba(60, 64, 67, 0.15);\n",
              "      fill: #174EA6;\n",
              "    }\n",
              "\n",
              "    .colab-df-buttons div {\n",
              "      margin-bottom: 4px;\n",
              "    }\n",
              "\n",
              "    [theme=dark] .colab-df-convert {\n",
              "      background-color: #3B4455;\n",
              "      fill: #D2E3FC;\n",
              "    }\n",
              "\n",
              "    [theme=dark] .colab-df-convert:hover {\n",
              "      background-color: #434B5C;\n",
              "      box-shadow: 0px 1px 3px 1px rgba(0, 0, 0, 0.15);\n",
              "      filter: drop-shadow(0px 1px 2px rgba(0, 0, 0, 0.3));\n",
              "      fill: #FFFFFF;\n",
              "    }\n",
              "  </style>\n",
              "\n",
              "    <script>\n",
              "      const buttonEl =\n",
              "        document.querySelector('#df-10d2f398-6f13-4b71-9cf2-6e24465aaba7 button.colab-df-convert');\n",
              "      buttonEl.style.display =\n",
              "        google.colab.kernel.accessAllowed ? 'block' : 'none';\n",
              "\n",
              "      async function convertToInteractive(key) {\n",
              "        const element = document.querySelector('#df-10d2f398-6f13-4b71-9cf2-6e24465aaba7');\n",
              "        const dataTable =\n",
              "          await google.colab.kernel.invokeFunction('convertToInteractive',\n",
              "                                                    [key], {});\n",
              "        if (!dataTable) return;\n",
              "\n",
              "        const docLinkHtml = 'Like what you see? Visit the ' +\n",
              "          '<a target=\"_blank\" href=https://colab.research.google.com/notebooks/data_table.ipynb>data table notebook</a>'\n",
              "          + ' to learn more about interactive tables.';\n",
              "        element.innerHTML = '';\n",
              "        dataTable['output_type'] = 'display_data';\n",
              "        await google.colab.output.renderOutput(dataTable, element);\n",
              "        const docLink = document.createElement('div');\n",
              "        docLink.innerHTML = docLinkHtml;\n",
              "        element.appendChild(docLink);\n",
              "      }\n",
              "    </script>\n",
              "  </div>\n",
              "\n",
              "\n",
              "<div id=\"df-c8b6ce28-53b6-4033-bff5-e0459a5bb583\">\n",
              "  <button class=\"colab-df-quickchart\" onclick=\"quickchart('df-c8b6ce28-53b6-4033-bff5-e0459a5bb583')\"\n",
              "            title=\"Suggest charts\"\n",
              "            style=\"display:none;\">\n",
              "\n",
              "<svg xmlns=\"http://www.w3.org/2000/svg\" height=\"24px\"viewBox=\"0 0 24 24\"\n",
              "     width=\"24px\">\n",
              "    <g>\n",
              "        <path d=\"M19 3H5c-1.1 0-2 .9-2 2v14c0 1.1.9 2 2 2h14c1.1 0 2-.9 2-2V5c0-1.1-.9-2-2-2zM9 17H7v-7h2v7zm4 0h-2V7h2v10zm4 0h-2v-4h2v4z\"/>\n",
              "    </g>\n",
              "</svg>\n",
              "  </button>\n",
              "\n",
              "<style>\n",
              "  .colab-df-quickchart {\n",
              "      --bg-color: #E8F0FE;\n",
              "      --fill-color: #1967D2;\n",
              "      --hover-bg-color: #E2EBFA;\n",
              "      --hover-fill-color: #174EA6;\n",
              "      --disabled-fill-color: #AAA;\n",
              "      --disabled-bg-color: #DDD;\n",
              "  }\n",
              "\n",
              "  [theme=dark] .colab-df-quickchart {\n",
              "      --bg-color: #3B4455;\n",
              "      --fill-color: #D2E3FC;\n",
              "      --hover-bg-color: #434B5C;\n",
              "      --hover-fill-color: #FFFFFF;\n",
              "      --disabled-bg-color: #3B4455;\n",
              "      --disabled-fill-color: #666;\n",
              "  }\n",
              "\n",
              "  .colab-df-quickchart {\n",
              "    background-color: var(--bg-color);\n",
              "    border: none;\n",
              "    border-radius: 50%;\n",
              "    cursor: pointer;\n",
              "    display: none;\n",
              "    fill: var(--fill-color);\n",
              "    height: 32px;\n",
              "    padding: 0;\n",
              "    width: 32px;\n",
              "  }\n",
              "\n",
              "  .colab-df-quickchart:hover {\n",
              "    background-color: var(--hover-bg-color);\n",
              "    box-shadow: 0 1px 2px rgba(60, 64, 67, 0.3), 0 1px 3px 1px rgba(60, 64, 67, 0.15);\n",
              "    fill: var(--button-hover-fill-color);\n",
              "  }\n",
              "\n",
              "  .colab-df-quickchart-complete:disabled,\n",
              "  .colab-df-quickchart-complete:disabled:hover {\n",
              "    background-color: var(--disabled-bg-color);\n",
              "    fill: var(--disabled-fill-color);\n",
              "    box-shadow: none;\n",
              "  }\n",
              "\n",
              "  .colab-df-spinner {\n",
              "    border: 2px solid var(--fill-color);\n",
              "    border-color: transparent;\n",
              "    border-bottom-color: var(--fill-color);\n",
              "    animation:\n",
              "      spin 1s steps(1) infinite;\n",
              "  }\n",
              "\n",
              "  @keyframes spin {\n",
              "    0% {\n",
              "      border-color: transparent;\n",
              "      border-bottom-color: var(--fill-color);\n",
              "      border-left-color: var(--fill-color);\n",
              "    }\n",
              "    20% {\n",
              "      border-color: transparent;\n",
              "      border-left-color: var(--fill-color);\n",
              "      border-top-color: var(--fill-color);\n",
              "    }\n",
              "    30% {\n",
              "      border-color: transparent;\n",
              "      border-left-color: var(--fill-color);\n",
              "      border-top-color: var(--fill-color);\n",
              "      border-right-color: var(--fill-color);\n",
              "    }\n",
              "    40% {\n",
              "      border-color: transparent;\n",
              "      border-right-color: var(--fill-color);\n",
              "      border-top-color: var(--fill-color);\n",
              "    }\n",
              "    60% {\n",
              "      border-color: transparent;\n",
              "      border-right-color: var(--fill-color);\n",
              "    }\n",
              "    80% {\n",
              "      border-color: transparent;\n",
              "      border-right-color: var(--fill-color);\n",
              "      border-bottom-color: var(--fill-color);\n",
              "    }\n",
              "    90% {\n",
              "      border-color: transparent;\n",
              "      border-bottom-color: var(--fill-color);\n",
              "    }\n",
              "  }\n",
              "</style>\n",
              "\n",
              "  <script>\n",
              "    async function quickchart(key) {\n",
              "      const quickchartButtonEl =\n",
              "        document.querySelector('#' + key + ' button');\n",
              "      quickchartButtonEl.disabled = true;  // To prevent multiple clicks.\n",
              "      quickchartButtonEl.classList.add('colab-df-spinner');\n",
              "      try {\n",
              "        const charts = await google.colab.kernel.invokeFunction(\n",
              "            'suggestCharts', [key], {});\n",
              "      } catch (error) {\n",
              "        console.error('Error during call to suggestCharts:', error);\n",
              "      }\n",
              "      quickchartButtonEl.classList.remove('colab-df-spinner');\n",
              "      quickchartButtonEl.classList.add('colab-df-quickchart-complete');\n",
              "    }\n",
              "    (() => {\n",
              "      let quickchartButtonEl =\n",
              "        document.querySelector('#df-c8b6ce28-53b6-4033-bff5-e0459a5bb583 button');\n",
              "      quickchartButtonEl.style.display =\n",
              "        google.colab.kernel.accessAllowed ? 'block' : 'none';\n",
              "    })();\n",
              "  </script>\n",
              "</div>\n",
              "    </div>\n",
              "  </div>\n"
            ],
            "application/vnd.google.colaboratory.intrinsic+json": {
              "type": "dataframe",
              "repr_error": "'str' object has no attribute 'empty'"
            }
          },
          "metadata": {},
          "execution_count": 3
        }
      ]
    },
    {
      "cell_type": "code",
      "source": [
        "dados.info()"
      ],
      "metadata": {
        "colab": {
          "base_uri": "https://localhost:8080/"
        },
        "id": "G-S0iLmmf8YY",
        "outputId": "a3afb827-068b-4c85-9a21-7144a2d21809"
      },
      "execution_count": 4,
      "outputs": [
        {
          "output_type": "stream",
          "name": "stdout",
          "text": [
            "<class 'pandas.core.frame.DataFrame'>\n",
            "RangeIndex: 1186 entries, 0 to 1185\n",
            "Data columns (total 7 columns):\n",
            " #   Column          Non-Null Count  Dtype \n",
            "---  ------          --------------  ----- \n",
            " 0   Company         1186 non-null   object\n",
            " 1   Valuation ($B)  1186 non-null   object\n",
            " 2   Date Joined     1186 non-null   object\n",
            " 3   Country         1186 non-null   object\n",
            " 4   City            1186 non-null   object\n",
            " 5   Industry        1186 non-null   object\n",
            " 6   Investors       1168 non-null   object\n",
            "dtypes: object(7)\n",
            "memory usage: 65.0+ KB\n"
          ]
        }
      ]
    },
    {
      "cell_type": "code",
      "source": [
        "print(f\" O dataset possui {dados.shape[0]} linhas e {dados.shape[1]} colunas\")"
      ],
      "metadata": {
        "colab": {
          "base_uri": "https://localhost:8080/"
        },
        "id": "l0zVAEkCf8ax",
        "outputId": "75cf78fc-c853-4666-ff8e-447d7e88e9ef"
      },
      "execution_count": 5,
      "outputs": [
        {
          "output_type": "stream",
          "name": "stdout",
          "text": [
            " O dataset possui 1186 linhas e 7 colunas\n"
          ]
        }
      ]
    },
    {
      "cell_type": "code",
      "source": [
        "#Renomeando as colunas do Dataset\n",
        "dados.columns"
      ],
      "metadata": {
        "colab": {
          "base_uri": "https://localhost:8080/"
        },
        "id": "QXn7eaUyf8cw",
        "outputId": "9e9bb4e7-adab-4a86-8230-e832bb6f7093"
      },
      "execution_count": 6,
      "outputs": [
        {
          "output_type": "execute_result",
          "data": {
            "text/plain": [
              "Index(['Company', 'Valuation ($B)', 'Date Joined', 'Country', 'City ',\n",
              "       'Industry', 'Investors'],\n",
              "      dtype='object')"
            ]
          },
          "metadata": {},
          "execution_count": 6
        }
      ]
    },
    {
      "cell_type": "code",
      "source": [
        "dados.rename(columns={\n",
        "    'Unnamed: 0' : 'Id',\n",
        "    'Company' : 'Empresa',\n",
        "    'Valuation ($B)' : 'Valor ($)',\n",
        "    'Date Joined' : 'Data de Adesão',\n",
        "    'Country' : 'Pais',\n",
        "    'City' : 'Cidade',\n",
        "    'Industry': 'Setor',\n",
        "    'Select Investors': 'Investidores',\n",
        "}, inplace=True)"
      ],
      "metadata": {
        "id": "sjRM3vw-f8hU"
      },
      "execution_count": 7,
      "outputs": []
    },
    {
      "cell_type": "code",
      "execution_count": 9,
      "metadata": {
        "colab": {
          "base_uri": "https://localhost:8080/"
        },
        "id": "wJ4MXfFqfxCp",
        "outputId": "2e8fb966-de4b-4b6f-ccf8-43cf25f853f6"
      },
      "outputs": [
        {
          "output_type": "execute_result",
          "data": {
            "text/plain": [
              "Empresa            0\n",
              "Valor ($)          0\n",
              "Data de Adesão     0\n",
              "Pais               0\n",
              "City               0\n",
              "Setor              0\n",
              "Investors         18\n",
              "dtype: int64"
            ]
          },
          "metadata": {},
          "execution_count": 9
        }
      ],
      "source": [
        "dados.isnull().sum()"
      ]
    },
    {
      "cell_type": "code",
      "source": [
        "#Verificando a o impacto do dados nulos Graficamenteno dataset"
      ],
      "metadata": {
        "id": "9NZ7fUvGiyzN"
      },
      "execution_count": null,
      "outputs": []
    },
    {
      "cell_type": "code",
      "source": [
        "plt.figure(figsize=(12, 5))\n",
        "plt.title(\"Analise do impacto dos campos nulos\")\n",
        "sns.heatmap(dados.isnull(), cbar=False);"
      ],
      "metadata": {
        "colab": {
          "base_uri": "https://localhost:8080/",
          "height": 468
        },
        "id": "NwVvIbCEi9Sw",
        "outputId": "599b031b-c98e-483b-fcca-48bf7a70f68d"
      },
      "execution_count": 11,
      "outputs": [
        {
          "output_type": "display_data",
          "data": {
            "text/plain": [
              "<Figure size 1200x500 with 1 Axes>"
            ],
            "image/png": "[encoded data removed]"
          },
          "metadata": {}
        }
      ]
    },
    {
      "cell_type": "code",
      "source": [
        "#1) - Em termos numericos como podemos perceber a distribuição dos dados deste dataset?"
      ],
      "metadata": {
        "id": "4ewijopGi9Vo"
      },
      "execution_count": null,
      "outputs": []
    },
    {
      "cell_type": "code",
      "source": [
        "estado = dados.nunique()\n",
        "print(f\"Em termos numericos podemos entender o dataser da seguinte forma: \\n{estado}\")"
      ],
      "metadata": {
        "colab": {
          "base_uri": "https://localhost:8080/"
        },
        "id": "40VQYrRxi9YU",
        "outputId": "66512d8d-3f48-4ec5-f404-96f7d3918e1d"
      },
      "execution_count": 14,
      "outputs": [
        {
          "output_type": "stream",
          "name": "stdout",
          "text": [
            "Em termos numericos podemos entender o dataser da seguinte forma: \n",
            "Empresa           1183\n",
            "Valor ($)          222\n",
            "Data de Adesão     695\n",
            "Pais                48\n",
            "City               286\n",
            "Setor               34\n",
            "Investors         1152\n",
            "dtype: int64\n"
          ]
        }
      ]
    },
    {
      "cell_type": "code",
      "source": [
        "print(f\"A outra forma de podermos enteder o dataset é por meio da descrição:\")\n",
        "dados.describe()"
      ],
      "metadata": {
        "colab": {
          "base_uri": "https://localhost:8080/",
          "height": 192
        },
        "id": "HSYckT-Gi9cs",
        "outputId": "2d3be55f-47e5-4f2c-cb60-2702b827504b"
      },
      "execution_count": 16,
      "outputs": [
        {
          "output_type": "stream",
          "name": "stdout",
          "text": [
            "A outra forma de podermos enteder o dataset é por meio da descrição:\n"
          ]
        },
        {
          "output_type": "execute_result",
          "data": {
            "text/plain": [
              "       Empresa Valor ($) Data de Adesão           Pais          City   \\\n",
              "count     1186      1186           1186           1186           1186   \n",
              "unique    1183       222            695             48            286   \n",
              "top       Bolt        $1      7/13/2021  United States  San Francisco   \n",
              "freq         2       271              9            636            168   \n",
              "\n",
              "          Setor        Investors  \n",
              "count      1186             1168  \n",
              "unique       34             1152  \n",
              "top     Fintech  Sequoia Capital  \n",
              "freq        239                3  "
            ],
            "text/html": [
              "\n",
              "  <div id=\"df-6fdedf6b-0719-497a-9d99-609dd56cbed1\" class=\"colab-df-container\">\n",
              "    <div>\n",
              "<style scoped>\n",
              "    .dataframe tbody tr th:only-of-type {\n",
              "        vertical-align: middle;\n",
              "    }\n",
              "\n",
              "    .dataframe tbody tr th {\n",
              "        vertical-align: top;\n",
              "    }\n",
              "\n",
              "    .dataframe thead th {\n",
              "        text-align: right;\n",
              "    }\n",
              "</style>\n",
              "<table border=\"1\" class=\"dataframe\">\n",
              "  <thead>\n",
              "    <tr style=\"text-align: right;\">\n",
              "      <th></th>\n",
              "      <th>Empresa</th>\n",
              "      <th>Valor ($)</th>\n",
              "      <th>Data de Adesão</th>\n",
              "      <th>Pais</th>\n",
              "      <th>City</th>\n",
              "      <th>Setor</th>\n",
              "      <th>Investors</th>\n",
              "    </tr>\n",
              "  </thead>\n",
              "  <tbody>\n",
              "    <tr>\n",
              "      <th>count</th>\n",
              "      <td>1186</td>\n",
              "      <td>1186</td>\n",
              "      <td>1186</td>\n",
              "      <td>1186</td>\n",
              "      <td>1186</td>\n",
              "      <td>1186</td>\n",
              "      <td>1168</td>\n",
              "    </tr>\n",
              "    <tr>\n",
              "      <th>unique</th>\n",
              "      <td>1183</td>\n",
              "      <td>222</td>\n",
              "      <td>695</td>\n",
              "      <td>48</td>\n",
              "      <td>286</td>\n",
              "      <td>34</td>\n",
              "      <td>1152</td>\n",
              "    </tr>\n",
              "    <tr>\n",
              "      <th>top</th>\n",
              "      <td>Bolt</td>\n",
              "      <td>$1</td>\n",
              "      <td>7/13/2021</td>\n",
              "      <td>United States</td>\n",
              "      <td>San Francisco</td>\n",
              "      <td>Fintech</td>\n",
              "      <td>Sequoia Capital</td>\n",
              "    </tr>\n",
              "    <tr>\n",
              "      <th>freq</th>\n",
              "      <td>2</td>\n",
              "      <td>271</td>\n",
              "      <td>9</td>\n",
              "      <td>636</td>\n",
              "      <td>168</td>\n",
              "      <td>239</td>\n",
              "      <td>3</td>\n",
              "    </tr>\n",
              "  </tbody>\n",
              "</table>\n",
              "</div>\n",
              "    <div class=\"colab-df-buttons\">\n",
              "\n",
              "  <div class=\"colab-df-container\">\n",
              "    <button class=\"colab-df-convert\" onclick=\"convertToInteractive('df-6fdedf6b-0719-497a-9d99-609dd56cbed1')\"\n",
              "            title=\"Convert this dataframe to an interactive table.\"\n",
              "            style=\"display:none;\">\n",
              "\n",
              "  <svg xmlns=\"http://www.w3.org/2000/svg\" height=\"24px\" viewBox=\"0 -960 960 960\">\n",
              "    <path d=\"M120-120v-720h720v720H120Zm60-500h600v-160H180v160Zm220 220h160v-160H400v160Zm0 220h160v-160H400v160ZM180-400h160v-160H180v160Zm440 0h160v-160H620v160ZM180-180h160v-160H180v160Zm440 0h160v-160H620v160Z\"/>\n",
              "  </svg>\n",
              "    </button>\n",
              "\n",
              "  <style>\n",
              "    .colab-df-container {\n",
              "      display:flex;\n",
              "      gap: 12px;\n",
              "    }\n",
              "\n",
              "    .colab-df-convert {\n",
              "      background-color: #E8F0FE;\n",
              "      border: none;\n",
              "      border-radius: 50%;\n",
              "      cursor: pointer;\n",
              "      display: none;\n",
              "      fill: #1967D2;\n",
              "      height: 32px;\n",
              "      padding: 0 0 0 0;\n",
              "      width: 32px;\n",
              "    }\n",
              "\n",
              "    .colab-df-convert:hover {\n",
              "      background-color: #E2EBFA;\n",
              "      box-shadow: 0px 1px 2px rgba(60, 64, 67, 0.3), 0px 1px 3px 1px rgba(60, 64, 67, 0.15);\n",
              "      fill: #174EA6;\n",
              "    }\n",
              "\n",
              "    .colab-df-buttons div {\n",
              "      margin-bottom: 4px;\n",
              "    }\n",
              "\n",
              "    [theme=dark] .colab-df-convert {\n",
              "      background-color: #3B4455;\n",
              "      fill: #D2E3FC;\n",
              "    }\n",
              "\n",
              "    [theme=dark] .colab-df-convert:hover {\n",
              "      background-color: #434B5C;\n",
              "      box-shadow: 0px 1px 3px 1px rgba(0, 0, 0, 0.15);\n",
              "      filter: drop-shadow(0px 1px 2px rgba(0, 0, 0, 0.3));\n",
              "      fill: #FFFFFF;\n",
              "    }\n",
              "  </style>\n",
              "\n",
              "    <script>\n",
              "      const buttonEl =\n",
              "        document.querySelector('#df-6fdedf6b-0719-497a-9d99-609dd56cbed1 button.colab-df-convert');\n",
              "      buttonEl.style.display =\n",
              "        google.colab.kernel.accessAllowed ? 'block' : 'none';\n",
              "\n",
              "      async function convertToInteractive(key) {\n",
              "        const element = document.querySelector('#df-6fdedf6b-0719-497a-9d99-609dd56cbed1');\n",
              "        const dataTable =\n",
              "          await google.colab.kernel.invokeFunction('convertToInteractive',\n",
              "                                                    [key], {});\n",
              "        if (!dataTable) return;\n",
              "\n",
              "        const docLinkHtml = 'Like what you see? Visit the ' +\n",
              "          '<a target=\"_blank\" href=https://colab.research.google.com/notebooks/data_table.ipynb>data table notebook</a>'\n",
              "          + ' to learn more about interactive tables.';\n",
              "        element.innerHTML = '';\n",
              "        dataTable['output_type'] = 'display_data';\n",
              "        await google.colab.output.renderOutput(dataTable, element);\n",
              "        const docLink = document.createElement('div');\n",
              "        docLink.innerHTML = docLinkHtml;\n",
              "        element.appendChild(docLink);\n",
              "      }\n",
              "    </script>\n",
              "  </div>\n",
              "\n",
              "\n",
              "<div id=\"df-7945faad-8965-420d-87f7-7bffb9a10235\">\n",
              "  <button class=\"colab-df-quickchart\" onclick=\"quickchart('df-7945faad-8965-420d-87f7-7bffb9a10235')\"\n",
              "            title=\"Suggest charts\"\n",
              "            style=\"display:none;\">\n",
              "\n",
              "<svg xmlns=\"http://www.w3.org/2000/svg\" height=\"24px\"viewBox=\"0 0 24 24\"\n",
              "     width=\"24px\">\n",
              "    <g>\n",
              "        <path d=\"M19 3H5c-1.1 0-2 .9-2 2v14c0 1.1.9 2 2 2h14c1.1 0 2-.9 2-2V5c0-1.1-.9-2-2-2zM9 17H7v-7h2v7zm4 0h-2V7h2v10zm4 0h-2v-4h2v4z\"/>\n",
              "    </g>\n",
              "</svg>\n",
              "  </button>\n",
              "\n",
              "<style>\n",
              "  .colab-df-quickchart {\n",
              "      --bg-color: #E8F0FE;\n",
              "      --fill-color: #1967D2;\n",
              "      --hover-bg-color: #E2EBFA;\n",
              "      --hover-fill-color: #174EA6;\n",
              "      --disabled-fill-color: #AAA;\n",
              "      --disabled-bg-color: #DDD;\n",
              "  }\n",
              "\n",
              "  [theme=dark] .colab-df-quickchart {\n",
              "      --bg-color: #3B4455;\n",
              "      --fill-color: #D2E3FC;\n",
              "      --hover-bg-color: #434B5C;\n",
              "      --hover-fill-color: #FFFFFF;\n",
              "      --disabled-bg-color: #3B4455;\n",
              "      --disabled-fill-color: #666;\n",
              "  }\n",
              "\n",
              "  .colab-df-quickchart {\n",
              "    background-color: var(--bg-color);\n",
              "    border: none;\n",
              "    border-radius: 50%;\n",
              "    cursor: pointer;\n",
              "    display: none;\n",
              "    fill: var(--fill-color);\n",
              "    height: 32px;\n",
              "    padding: 0;\n",
              "    width: 32px;\n",
              "  }\n",
              "\n",
              "  .colab-df-quickchart:hover {\n",
              "    background-color: var(--hover-bg-color);\n",
              "    box-shadow: 0 1px 2px rgba(60, 64, 67, 0.3), 0 1px 3px 1px rgba(60, 64, 67, 0.15);\n",
              "    fill: var(--button-hover-fill-color);\n",
              "  }\n",
              "\n",
              "  .colab-df-quickchart-complete:disabled,\n",
              "  .colab-df-quickchart-complete:disabled:hover {\n",
              "    background-color: var(--disabled-bg-color);\n",
              "    fill: var(--disabled-fill-color);\n",
              "    box-shadow: none;\n",
              "  }\n",
              "\n",
              "  .colab-df-spinner {\n",
              "    border: 2px solid var(--fill-color);\n",
              "    border-color: transparent;\n",
              "    border-bottom-color: var(--fill-color);\n",
              "    animation:\n",
              "      spin 1s steps(1) infinite;\n",
              "  }\n",
              "\n",
              "  @keyframes spin {\n",
              "    0% {\n",
              "      border-color: transparent;\n",
              "      border-bottom-color: var(--fill-color);\n",
              "      border-left-color: var(--fill-color);\n",
              "    }\n",
              "    20% {\n",
              "      border-color: transparent;\n",
              "      border-left-color: var(--fill-color);\n",
              "      border-top-color: var(--fill-color);\n",
              "    }\n",
              "    30% {\n",
              "      border-color: transparent;\n",
              "      border-left-color: var(--fill-color);\n",
              "      border-top-color: var(--fill-color);\n",
              "      border-right-color: var(--fill-color);\n",
              "    }\n",
              "    40% {\n",
              "      border-color: transparent;\n",
              "      border-right-color: var(--fill-color);\n",
              "      border-top-color: var(--fill-color);\n",
              "    }\n",
              "    60% {\n",
              "      border-color: transparent;\n",
              "      border-right-color: var(--fill-color);\n",
              "    }\n",
              "    80% {\n",
              "      border-color: transparent;\n",
              "      border-right-color: var(--fill-color);\n",
              "      border-bottom-color: var(--fill-color);\n",
              "    }\n",
              "    90% {\n",
              "      border-color: transparent;\n",
              "      border-bottom-color: var(--fill-color);\n",
              "    }\n",
              "  }\n",
              "</style>\n",
              "\n",
              "  <script>\n",
              "    async function quickchart(key) {\n",
              "      const quickchartButtonEl =\n",
              "        document.querySelector('#' + key + ' button');\n",
              "      quickchartButtonEl.disabled = true;  // To prevent multiple clicks.\n",
              "      quickchartButtonEl.classList.add('colab-df-spinner');\n",
              "      try {\n",
              "        const charts = await google.colab.kernel.invokeFunction(\n",
              "            'suggestCharts', [key], {});\n",
              "      } catch (error) {\n",
              "        console.error('Error during call to suggestCharts:', error);\n",
              "      }\n",
              "      quickchartButtonEl.classList.remove('colab-df-spinner');\n",
              "      quickchartButtonEl.classList.add('colab-df-quickchart-complete');\n",
              "    }\n",
              "    (() => {\n",
              "      let quickchartButtonEl =\n",
              "        document.querySelector('#df-7945faad-8965-420d-87f7-7bffb9a10235 button');\n",
              "      quickchartButtonEl.style.display =\n",
              "        google.colab.kernel.accessAllowed ? 'block' : 'none';\n",
              "    })();\n",
              "  </script>\n",
              "</div>\n",
              "    </div>\n",
              "  </div>\n"
            ],
            "application/vnd.google.colaboratory.intrinsic+json": {
              "type": "dataframe",
              "repr_error": "'str' object has no attribute 'empty'"
            }
          },
          "metadata": {},
          "execution_count": 16
        }
      ]
    },
    {
      "cell_type": "code",
      "source": [
        "#2) - Quais sectores as Statups se aplicam mais?"
      ],
      "metadata": {
        "id": "edLAOx2Gi9iF"
      },
      "execution_count": null,
      "outputs": []
    },
    {
      "cell_type": "code",
      "source": [
        "dados['Setor'].unique()"
      ],
      "metadata": {
        "colab": {
          "base_uri": "https://localhost:8080/"
        },
        "id": "SJIFegnTkiRc",
        "outputId": "64e9ebf5-305f-4e5f-a656-993c5ed6798c"
      },
      "execution_count": 20,
      "outputs": [
        {
          "output_type": "execute_result",
          "data": {
            "text/plain": [
              "array(['Artificial intelligence', 'Other',\n",
              "       'E-commerce & direct-to-consumer', 'Fintech',\n",
              "       'Internet software & services',\n",
              "       'Supply chain, logistics, & delivery',\n",
              "       'Data management & analytics',\n",
              "       'Sequoia Capital, Thoma Bravo, Softbank', 'Edtech', 'Hardware',\n",
              "       'Consumer & retail', 'Health', 'Auto & transportation',\n",
              "       'Cybersecurity', 'Mobile & telecommunications', 'Travel',\n",
              "       'Kuang-Chi',\n",
              "       'Tiger Global Management, Tiger Brokers, DCM Ventures',\n",
              "       'Jungle Ventures, Accel, Venture Highway',\n",
              "       'Artificial Intelligence', 'GIC. Apis Partners, Insight Partners',\n",
              "       'Vision Plus Capital, GSR Ventures, ZhenFund',\n",
              "       'Hopu Investment Management, Boyu Capital, DC Thomson Ventures',\n",
              "       'Internet', '500 Global, Rakuten Ventures, Golden Gate Ventures',\n",
              "       'Sequoia Capital China, ING, Alibaba Entrepreneurs Fund',\n",
              "       'Sequoia Capital China, Shunwei Capital Partners, Qualgro',\n",
              "       'Dragonfly Captial, Qiming Venture Partners, DST Global',\n",
              "       'SingTel Innov8, Alpha JWC Ventures, Golden Gate Ventures',\n",
              "       'Mundi Ventures, Doqling Capital Partners, Activant Capital',\n",
              "       'Vertex Ventures SE Asia, Global Founders Capital, Visa Ventures',\n",
              "       'Andreessen Horowitz, DST Global, IDG Capital',\n",
              "       \"B Capital Group, Monk's Hill Ventures, Dynamic Parcel Distribution\",\n",
              "       'Temasek, Guggenheim Investments, Qatar Investment Authority'],\n",
              "      dtype=object)"
            ]
          },
          "metadata": {},
          "execution_count": 20
        }
      ]
    },
    {
      "cell_type": "code",
      "source": [
        "dados['Setor'].value_counts()"
      ],
      "metadata": {
        "colab": {
          "base_uri": "https://localhost:8080/"
        },
        "id": "llk8veZlkiVX",
        "outputId": "809c36b8-4895-4314-8815-a7fb82b68195"
      },
      "execution_count": 19,
      "outputs": [
        {
          "output_type": "execute_result",
          "data": {
            "text/plain": [
              "Fintech                                                               239\n",
              "Internet software & services                                          224\n",
              "E-commerce & direct-to-consumer                                       103\n",
              "Health                                                                 94\n",
              "Artificial intelligence                                                74\n",
              "Supply chain, logistics, & delivery                                    65\n",
              "Other                                                                  65\n",
              "Cybersecurity                                                          58\n",
              "Data management & analytics                                            45\n",
              "Auto & transportation                                                  40\n",
              "Hardware                                                               38\n",
              "Mobile & telecommunications                                            37\n",
              "Edtech                                                                 32\n",
              "Consumer & retail                                                      28\n",
              "Travel                                                                 14\n",
              "Artificial Intelligence                                                11\n",
              "Internet                                                                2\n",
              "Sequoia Capital China, ING, Alibaba Entrepreneurs Fund                  1\n",
              "Andreessen Horowitz, DST Global, IDG Capital                            1\n",
              "B Capital Group, Monk's Hill Ventures, Dynamic Parcel Distribution      1\n",
              "Vertex Ventures SE Asia, Global Founders Capital, Visa Ventures         1\n",
              "Mundi Ventures, Doqling Capital Partners, Activant Capital              1\n",
              "SingTel Innov8, Alpha JWC Ventures, Golden Gate Ventures                1\n",
              "Dragonfly Captial, Qiming Venture Partners, DST Global                  1\n",
              "Sequoia Capital China, Shunwei Capital Partners, Qualgro                1\n",
              "Tiger Global Management, Tiger Brokers, DCM Ventures                    1\n",
              "500 Global, Rakuten Ventures, Golden Gate Ventures                      1\n",
              "Hopu Investment Management, Boyu Capital, DC Thomson Ventures           1\n",
              "Vision Plus Capital, GSR Ventures, ZhenFund                             1\n",
              "GIC. Apis Partners, Insight Partners                                    1\n",
              "Jungle Ventures, Accel, Venture Highway                                 1\n",
              "Kuang-Chi                                                               1\n",
              "Sequoia Capital, Thoma Bravo, Softbank                                  1\n",
              "Temasek, Guggenheim Investments, Qatar Investment Authority             1\n",
              "Name: Setor, dtype: int64"
            ]
          },
          "metadata": {},
          "execution_count": 19
        }
      ]
    },
    {
      "cell_type": "code",
      "source": [
        "#3) - Em termos % demostre 12 das areas melhores posicionadas?"
      ],
      "metadata": {
        "id": "0eKDl0eAkiYh"
      },
      "execution_count": null,
      "outputs": []
    },
    {
      "cell_type": "code",
      "source": [
        "graf_sector = dados['Setor'].value_counts(normalize = True).head(12)\n",
        "print(f\"Em termos % as 12 areas com mais bem posiocionadas são: \\n{graf_sector.round(2)}\")"
      ],
      "metadata": {
        "colab": {
          "base_uri": "https://localhost:8080/"
        },
        "id": "qAK9fpyTkibE",
        "outputId": "64acfafe-aea4-4e07-d30f-1e3492a2cad0"
      },
      "execution_count": 28,
      "outputs": [
        {
          "output_type": "stream",
          "name": "stdout",
          "text": [
            "Em termos % as 12 areas com mais bem posiocionadas são: \n",
            "Fintech                                0.20\n",
            "Internet software & services           0.19\n",
            "E-commerce & direct-to-consumer        0.09\n",
            "Health                                 0.08\n",
            "Artificial intelligence                0.06\n",
            "Supply chain, logistics, & delivery    0.05\n",
            "Other                                  0.05\n",
            "Cybersecurity                          0.05\n",
            "Data management & analytics            0.04\n",
            "Auto & transportation                  0.03\n",
            "Hardware                               0.03\n",
            "Mobile & telecommunications            0.03\n",
            "Name: Setor, dtype: float64\n"
          ]
        }
      ]
    },
    {
      "cell_type": "code",
      "source": [],
      "metadata": {
        "id": "hwwcqh1ekid9"
      },
      "execution_count": null,
      "outputs": []
    },
    {
      "cell_type": "code",
      "source": [],
      "metadata": {
        "id": "3bKKZOMkkigB"
      },
      "execution_count": null,
      "outputs": []
    },
    {
      "cell_type": "code",
      "source": [],
      "metadata": {
        "id": "KVKdoU3Ei9mn"
      },
      "execution_count": null,
      "outputs": []
    }
  ]
}